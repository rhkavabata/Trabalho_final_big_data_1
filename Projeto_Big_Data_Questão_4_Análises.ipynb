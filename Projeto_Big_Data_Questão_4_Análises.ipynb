{
  "cells": [
    {
      "cell_type": "markdown",
      "metadata": {
        "id": "KccqfD8ujL3K"
      },
      "source": [
        "# Começando o Trabalho\n",
        "---"
      ]
    },
    {
      "cell_type": "markdown",
      "metadata": {
        "id": "A_pds0odi1Rj"
      },
      "source": [
        "## Utilizando o Spark no Google Colab\n",
        "\n",
        "Para facilitar o desenvolvimento de nosso projeto neste curso vamos utilizar o Google Colab como ferramenta e para configurar o PySpark basta executar os comandos abaixo na própria célula do seu *notebook*."
      ]
    },
    {
      "cell_type": "code",
      "execution_count": 1,
      "metadata": {
        "id": "JmcO4uWZ3OLO"
      },
      "outputs": [],
      "source": [
        "# instalar as dependências\n",
        "!apt-get update -qq\n",
        "!apt-get install openjdk-8-jdk-headless -qq > /dev/null\n",
        "!wget -q https://archive.apache.org/dist/spark/spark-3.1.2/spark-3.1.2-bin-hadoop2.7.tgz\n",
        "!tar xf spark-3.1.2-bin-hadoop2.7.tgz\n",
        "!pip install -q findspark"
      ]
    },
    {
      "cell_type": "code",
      "execution_count": 2,
      "metadata": {
        "id": "_4Z_1m0z3sPJ"
      },
      "outputs": [],
      "source": [
        "import os\n",
        "os.environ[\"JAVA_HOME\"] = \"/usr/lib/jvm/java-8-openjdk-amd64\"\n",
        "os.environ[\"SPARK_HOME\"] = \"/content/spark-3.1.2-bin-hadoop2.7\""
      ]
    },
    {
      "cell_type": "code",
      "execution_count": 3,
      "metadata": {
        "id": "kqdft9fpGlH0"
      },
      "outputs": [],
      "source": [
        "import findspark\n",
        "findspark.init()"
      ]
    },
    {
      "cell_type": "markdown",
      "metadata": {
        "id": "xIZNca7Pjgqf"
      },
      "source": [
        "# Carregamento de Dados\n",
        "---"
      ]
    },
    {
      "cell_type": "markdown",
      "metadata": {
        "id": "YGNS075GGlH0"
      },
      "source": [
        "## [SparkSession](https://spark.apache.org/docs/3.1.2/api/python/reference/api/pyspark.sql.SparkSession.html)\n",
        "\n",
        "O ponto de entrada para programar o Spark com a API Dataset e DataFrame.\n",
        "\n",
        "Uma SparkSession pode ser utilizada para criar DataFrames, registrar DataFrames como tabelas, executar consultas SQL em tabelas, armazenar em cache e ler arquivos parquet. Para criar uma SparkSession, use o seguinte padrão de construtor:"
      ]
    },
    {
      "cell_type": "code",
      "execution_count": 4,
      "metadata": {
        "id": "yayRGdn_GlH1"
      },
      "outputs": [],
      "source": [
        "# from pyspark.sql import SparkSession\n",
        "\n",
        "# spark = SparkSession.builder \\\n",
        "#     .master('local[*]') \\\n",
        "#     .appName(\"Iniciando com Spark\") \\\n",
        "#     .getOrCreate()"
      ]
    },
    {
      "cell_type": "code",
      "execution_count": 5,
      "metadata": {
        "id": "PizPNqbmCuSM"
      },
      "outputs": [],
      "source": [
        "# spark"
      ]
    },
    {
      "cell_type": "markdown",
      "metadata": {
        "id": "n2mFfLx470tO"
      },
      "source": [
        "## Acessando o [Spark UI](https://spark.apache.org/docs/3.1.2/web-ui.html) (Google Colab)"
      ]
    },
    {
      "cell_type": "code",
      "source": [
        "from pyspark.sql.functions import max, date_sub, year, month, last_day, col\n",
        "from pyspark.sql.functions import sum, expr, current_date, count\n",
        "from pyspark.sql import functions as F\n",
        "from pyspark.sql.types import DateType\n",
        "from datetime import datetime\n",
        "from pyspark.sql import SparkSession"
      ],
      "metadata": {
        "id": "bNHwoJK8Qn4s"
      },
      "execution_count": 6,
      "outputs": []
    },
    {
      "cell_type": "code",
      "execution_count": 7,
      "metadata": {
        "id": "RpSjVUhR8AYq"
      },
      "outputs": [],
      "source": [
        "spark = SparkSession.builder \\\n",
        "    .master('local[*]') \\\n",
        "    .appName(\"Iniciando com Spark\") \\\n",
        "    .config('spark.ui.port', '4050') \\\n",
        "    .getOrCreate()"
      ]
    },
    {
      "cell_type": "markdown",
      "metadata": {
        "id": "Otwtgug3T4tW"
      },
      "source": [
        "[Site ngrok](https://ngrok.com)"
      ]
    },
    {
      "cell_type": "code",
      "execution_count": 8,
      "metadata": {
        "colab": {
          "base_uri": "https://localhost:8080/"
        },
        "id": "Wy6EXcMn8bg5",
        "outputId": "fcc5ec00-6871-472f-8cd9-5d939a07644f"
      },
      "outputs": [
        {
          "output_type": "stream",
          "name": "stdout",
          "text": [
            "Archive:  ngrok-stable-linux-amd64.zip\n",
            "  inflating: ngrok                   \n"
          ]
        }
      ],
      "source": [
        "!wget -q https://bin.equinox.io/c/4VmDzA7iaHb/ngrok-stable-linux-amd64.zip\n",
        "!unzip ngrok-stable-linux-amd64.zip"
      ]
    },
    {
      "cell_type": "code",
      "source": [
        "!ngrok config add-authtoken 2KhGnm3oR704AwiHamZP5DayNYG_5UqPzTqfSjTJeUDwmK1uq"
      ],
      "metadata": {
        "colab": {
          "base_uri": "https://localhost:8080/"
        },
        "id": "DhfB7l4te9Vr",
        "outputId": "6f034bce-c4ff-40bc-aa56-995df3d5b1fb"
      },
      "execution_count": 9,
      "outputs": [
        {
          "output_type": "stream",
          "name": "stdout",
          "text": [
            "/bin/bash: ngrok: command not found\n"
          ]
        }
      ]
    },
    {
      "cell_type": "code",
      "execution_count": 10,
      "metadata": {
        "id": "UL5yysRL8i_I"
      },
      "outputs": [],
      "source": [
        "get_ipython().system_raw('./ngrok authtoken 2KhGnm3oR704AwiHamZP5DayNYG_5UqPzTqfSjTJeUDwmK1uq')\n",
        "get_ipython().system_raw('./ngrok http 4050 &')"
      ]
    },
    {
      "cell_type": "code",
      "execution_count": 11,
      "metadata": {
        "colab": {
          "base_uri": "https://localhost:8080/"
        },
        "id": "GOFKWePj8no0",
        "outputId": "32fddf66-6d9d-48e0-d0d9-46d0cb95860b"
      },
      "outputs": [
        {
          "output_type": "stream",
          "name": "stdout",
          "text": [
            "{\"tunnels\":[],\"uri\":\"/api/tunnels\"}\n"
          ]
        }
      ],
      "source": [
        "!curl -s http://localhost:4040/api/tunnels"
      ]
    },
    {
      "cell_type": "code",
      "execution_count": 12,
      "metadata": {
        "colab": {
          "base_uri": "https://localhost:8080/",
          "height": 222
        },
        "id": "oonn_IJ08rfq",
        "outputId": "9ca66d6c-e1ed-4ac8-bee2-e2d023f4b2ab"
      },
      "outputs": [
        {
          "output_type": "execute_result",
          "data": {
            "text/plain": [
              "<pyspark.sql.session.SparkSession at 0x7f4ab83338b0>"
            ],
            "text/html": [
              "\n",
              "            <div>\n",
              "                <p><b>SparkSession - in-memory</b></p>\n",
              "                \n",
              "        <div>\n",
              "            <p><b>SparkContext</b></p>\n",
              "\n",
              "            <p><a href=\"http://2e5c00d5f20d:4050\">Spark UI</a></p>\n",
              "\n",
              "            <dl>\n",
              "              <dt>Version</dt>\n",
              "                <dd><code>v3.1.2</code></dd>\n",
              "              <dt>Master</dt>\n",
              "                <dd><code>local[*]</code></dd>\n",
              "              <dt>AppName</dt>\n",
              "                <dd><code>Iniciando com Spark</code></dd>\n",
              "            </dl>\n",
              "        </div>\n",
              "        \n",
              "            </div>\n",
              "        "
            ]
          },
          "metadata": {},
          "execution_count": 12
        }
      ],
      "source": [
        "spark"
      ]
    },
    {
      "cell_type": "markdown",
      "metadata": {
        "id": "KCYYVAtjhMa7"
      },
      "source": [
        "## Carregamento de dados"
      ]
    },
    {
      "cell_type": "markdown",
      "metadata": {
        "id": "6znrrAdApQmE"
      },
      "source": [
        "### Montando drive"
      ]
    },
    {
      "cell_type": "code",
      "execution_count": 13,
      "metadata": {
        "colab": {
          "base_uri": "https://localhost:8080/"
        },
        "id": "6g2I8wYShfYJ",
        "outputId": "50f64c1b-ac72-48b9-b2d3-b37af37a65b8"
      },
      "outputs": [
        {
          "output_type": "stream",
          "name": "stdout",
          "text": [
            "Mounted at /content/drive\n"
          ]
        }
      ],
      "source": [
        "from google.colab import drive\n",
        "drive.mount('/content/drive')"
      ]
    },
    {
      "cell_type": "markdown",
      "metadata": {
        "id": "3f6bwFADGlH6"
      },
      "source": [
        "### Carregando os dados"
      ]
    },
    {
      "cell_type": "markdown",
      "source": [
        "### Questão 1 - Quais são os três produtos MENOS vendidos?"
      ],
      "metadata": {
        "id": "ea-PX-3Ql8pE"
      }
    },
    {
      "cell_type": "code",
      "execution_count": 14,
      "metadata": {
        "id": "1rDKf8L-GlH6"
      },
      "outputs": [],
      "source": [
        "path = '/content/drive/MyDrive/Colab Notebooks/Santander/7/nortwind/'\n",
        "orders_detail = spark.read.csv(path+\"OrderDetails.csv\", sep=',', \n",
        "                               inferSchema=True, header='true')"
      ]
    },
    {
      "cell_type": "code",
      "source": [
        "orders_detail.show(5)"
      ],
      "metadata": {
        "colab": {
          "base_uri": "https://localhost:8080/"
        },
        "id": "fKR9cJnLjIk-",
        "outputId": "75c9584f-f5c1-47a4-b1c0-677e5fc33dce"
      },
      "execution_count": 15,
      "outputs": [
        {
          "output_type": "stream",
          "name": "stdout",
          "text": [
            "+-------+---------+---------+--------+--------+\n",
            "|OrderID|ProductID|UnitPrice|Quantity|Discount|\n",
            "+-------+---------+---------+--------+--------+\n",
            "|  10248|       11|       14|      12|       0|\n",
            "|  10248|       42|      9,8|      10|       0|\n",
            "|  10248|       72|     34,8|       5|       0|\n",
            "|  10249|       14|     18,6|       9|       0|\n",
            "|  10249|       51|     42,4|      40|       0|\n",
            "+-------+---------+---------+--------+--------+\n",
            "only showing top 5 rows\n",
            "\n"
          ]
        }
      ]
    },
    {
      "cell_type": "code",
      "source": [
        "# Agrupa e seleciona os três menos vendidos\n",
        "produtos_vendidos = orders_detail.groupBy(\"ProductID\") \\\n",
        "    .agg(sum(\"Quantity\").alias(\"TotalVendido\")) \\\n",
        "    .orderBy(\"TotalVendido\")\n",
        "\n",
        "tres_menos_vendidos = produtos_vendidos.limit(3)\n",
        "tres_menos_vendidos.show()"
      ],
      "metadata": {
        "colab": {
          "base_uri": "https://localhost:8080/"
        },
        "id": "0R1p_ktFjJu5",
        "outputId": "f4ee4614-a21c-4a32-944a-5b14f6f0385e"
      },
      "execution_count": 16,
      "outputs": [
        {
          "output_type": "stream",
          "name": "stdout",
          "text": [
            "+---------+------------+\n",
            "|ProductID|TotalVendido|\n",
            "+---------+------------+\n",
            "|        9|          95|\n",
            "|       15|         122|\n",
            "|       37|         125|\n",
            "+---------+------------+\n",
            "\n"
          ]
        }
      ]
    },
    {
      "cell_type": "markdown",
      "source": [
        "### Questão 2 - Quais são os cinco clientes que MAIS compras fizeram? (quantidade)"
      ],
      "metadata": {
        "id": "yl8xPYd1lxvM"
      }
    },
    {
      "cell_type": "code",
      "source": [
        "customers = spark.read.csv(path+\"Customers.csv\", sep=',', encoding= \"ISO-8859-1\",\n",
        "                               inferSchema=True, header='true')\n",
        "customers.show(5)"
      ],
      "metadata": {
        "colab": {
          "base_uri": "https://localhost:8080/"
        },
        "id": "SiSowdj7nYG0",
        "outputId": "4f5f5a61-0ebc-4bec-8c92-a361cd0ede7c"
      },
      "execution_count": 17,
      "outputs": [
        {
          "output_type": "stream",
          "name": "stdout",
          "text": [
            "+----------+--------------------+------------------+--------------------+--------------------+-----------+------+----------+-------+--------------+--------------+\n",
            "|CustomerID|         CompanyName|       ContactName|        ContactTitle|             Address|       City|Region|PostalCode|Country|         Phone|           Fax|\n",
            "+----------+--------------------+------------------+--------------------+--------------------+-----------+------+----------+-------+--------------+--------------+\n",
            "|     ALFKI| Alfreds Futterkiste|      Maria Anders|Sales Representative|       Obere Str. 57|     Berlin|  null|     12209|Germany|   030-0074321|   030-0076545|\n",
            "|     ANATR|Ana Trujillo Empa...|      Ana Trujillo|               Owner|Avda. de la Const...|México D.F.|  null|      5021| Mexico|  (5) 555-4729|  (5) 555-3745|\n",
            "|     ANTON|Antonio Moreno Ta...|    Antonio Moreno|               Owner|     Mataderos  2312|México D.F.|  null|      5023| Mexico|  (5) 555-3932|          null|\n",
            "|     AROUT|     Around the Horn|      Thomas Hardy|Sales Representative|     120 Hanover Sq.|     London|  null|   WA1 1DP|     UK|(171) 555-7788|(171) 555-6750|\n",
            "|     BERGS|  Berglunds snabbköp|Christina Berglund| Order Administrator|     Berguvsvägen  8|      Luleå|  null|  S-958 22| Sweden| 0921-12 34 65| 0921-12 34 67|\n",
            "+----------+--------------------+------------------+--------------------+--------------------+-----------+------+----------+-------+--------------+--------------+\n",
            "only showing top 5 rows\n",
            "\n"
          ]
        }
      ]
    },
    {
      "cell_type": "code",
      "source": [
        "orders = spark.read.csv(path+\"Orders.csv\", sep=',', encoding= \"ISO-8859-1\",\n",
        "                               inferSchema=True, header='true')\n",
        "orders.show(5)"
      ],
      "metadata": {
        "colab": {
          "base_uri": "https://localhost:8080/"
        },
        "id": "TV1eoTZ9n8gy",
        "outputId": "815e352c-5b4d-4967-eb36-f2348ac4245f"
      },
      "execution_count": 18,
      "outputs": [
        {
          "output_type": "stream",
          "name": "stdout",
          "text": [
            "+-------+----------+----------+--------------------+--------------------+--------------------+-------+-------+--------------------+--------------------+--------------+----------+--------------+-----------+\n",
            "|OrderID|CustomerID|EmployeeID|           OrderDate|        RequiredDate|         ShippedDate|ShipVia|Freight|            ShipName|         ShipAddress|      ShipCity|ShipRegion|ShipPostalCode|ShipCountry|\n",
            "+-------+----------+----------+--------------------+--------------------+--------------------+-------+-------+--------------------+--------------------+--------------+----------+--------------+-----------+\n",
            "|  10248|     VINET|         5|1996-07-04 00:00:...|1996-08-01 00:00:...|1996-07-16 00:00:...|      3|  32,38|Vins et alcools C...|  59 rue de l'Abbaye|         Reims|      null|         51100|     France|\n",
            "|  10249|     TOMSP|         6|1996-07-05 00:00:...|1996-08-16 00:00:...|1996-07-10 00:00:...|      1|  11,61|  Toms Spezialitäten|       Luisenstr. 48|       Münster|      null|         44087|    Germany|\n",
            "|  10250|     HANAR|         4|1996-07-08 00:00:...|1996-08-05 00:00:...|1996-07-12 00:00:...|      2|  65,83|       Hanari Carnes|     Rua do Paço, 67|Rio de Janeiro|        RJ|     05454-876|     Brazil|\n",
            "|  10251|     VICTE|         3|1996-07-08 00:00:...|1996-08-05 00:00:...|1996-07-15 00:00:...|      1|  41,34|Victuailles en stock|  2, rue du Commerce|          Lyon|      null|         69004|     France|\n",
            "|  10252|     SUPRD|         4|1996-07-09 00:00:...|1996-08-06 00:00:...|1996-07-11 00:00:...|      2|   51,3|    Suprêmes délices|Boulevard Tirou, 255|     Charleroi|      null|        B-6000|    Belgium|\n",
            "+-------+----------+----------+--------------------+--------------------+--------------------+-------+-------+--------------------+--------------------+--------------+----------+--------------+-----------+\n",
            "only showing top 5 rows\n",
            "\n"
          ]
        }
      ]
    },
    {
      "cell_type": "code",
      "source": [
        "merged_df = customers.join(orders, \"CustomerID\") \\\n",
        "    .join(orders_detail, \"OrderID\")\n",
        "\n",
        "# Agrupa pelo nome somando a quantidade comprado\n",
        "total_comprado_por_cliente = merged_df.groupBy(\"ContactName\") \\\n",
        "    .agg(sum(\"Quantity\").alias(\"TotalComprado\")) \\\n",
        "    .orderBy(\"TotalComprado\", ascending=False)\n",
        "\n",
        "\n",
        "clientes_mais_compraram = total_comprado_por_cliente.limit(5)\n",
        "clientes_mais_compraram.show()"
      ],
      "metadata": {
        "colab": {
          "base_uri": "https://localhost:8080/"
        },
        "id": "J_xq_1mLnMHv",
        "outputId": "fbb92a42-b128-4441-ffc5-16f06a83cc18"
      },
      "execution_count": 19,
      "outputs": [
        {
          "output_type": "stream",
          "name": "stdout",
          "text": [
            "+----------------+-------------+\n",
            "|     ContactName|TotalComprado|\n",
            "+----------------+-------------+\n",
            "|  Jose Pavarotti|         4958|\n",
            "|   Roland Mendel|         4543|\n",
            "|     Horst Kloss|         3961|\n",
            "|Patricia McKenna|         1684|\n",
            "|   Peter Franken|         1525|\n",
            "+----------------+-------------+\n",
            "\n"
          ]
        }
      ]
    },
    {
      "cell_type": "markdown",
      "source": [
        "### Questão 3 - Quais são os cinco clientes com MAIOR total gasto? (montante)"
      ],
      "metadata": {
        "id": "gkSsLsM4tced"
      }
    },
    {
      "cell_type": "code",
      "source": [
        "merged_df = customers.join(orders, \"CustomerID\") \\\n",
        "    .join(orders_detail, \"OrderID\")\n",
        "\n",
        "total_gasto_por_cliente = merged_df.groupBy(\"ContactName\") \\\n",
        "    .agg(expr(\"sum(Quantity * UnitPrice * (1 - Discount))\").alias(\"TotalGasto\")) \\\n",
        "    .orderBy(\"TotalGasto\", ascending=False)\n",
        "\n",
        "cinco_maior_gasto = total_gasto_por_cliente.limit(5)\n",
        "cinco_maior_gasto.show()"
      ],
      "metadata": {
        "colab": {
          "base_uri": "https://localhost:8080/"
        },
        "id": "pFKTPjBxmhfR",
        "outputId": "029206a3-1873-4113-fa2e-6c2c4456775d"
      },
      "execution_count": 20,
      "outputs": [
        {
          "output_type": "stream",
          "name": "stdout",
          "text": [
            "+--------------+----------+\n",
            "|   ContactName|TotalGasto|\n",
            "+--------------+----------+\n",
            "| Roland Mendel|   28163.0|\n",
            "|Jose Pavarotti|   26887.0|\n",
            "|   Horst Kloss|   17983.0|\n",
            "| Maria Larsson|   14071.0|\n",
            "| Philip Cramer|   10107.0|\n",
            "+--------------+----------+\n",
            "\n"
          ]
        }
      ]
    },
    {
      "cell_type": "markdown",
      "source": [
        "### 4 - Qual o melhor funcionário do último mês registrado? (total de vendas)"
      ],
      "metadata": {
        "id": "Ln9mTiZ2wzVo"
      }
    },
    {
      "cell_type": "code",
      "source": [
        "employees = spark.read.csv(path+\"Employees.csv\", sep=',', encoding= \"ISO-8859-1\",\n",
        "                               inferSchema=True, header='true')\n",
        "employees.show(5)"
      ],
      "metadata": {
        "colab": {
          "base_uri": "https://localhost:8080/"
        },
        "id": "mIlWFWkoyyKq",
        "outputId": "4aced5d6-341b-4f39-b8f3-7ce24e29ac6b"
      },
      "execution_count": 21,
      "outputs": [
        {
          "output_type": "stream",
          "name": "stdout",
          "text": [
            "+----------+---------+---------+--------------------+---------------+--------------------+--------------------+--------------------+--------+------+----------+-------+--------------+---------+--------------------+--------------------+---------+--------------------+\n",
            "|EmployeeID| LastName|FirstName|               Title|TitleOfCourtesy|           BirthDate|            HireDate|             Address|    City|Region|PostalCode|Country|     HomePhone|Extension|               Photo|               Notes|ReportsTo|           PhotoPath|\n",
            "+----------+---------+---------+--------------------+---------------+--------------------+--------------------+--------------------+--------+------+----------+-------+--------------+---------+--------------------+--------------------+---------+--------------------+\n",
            "|         1|  Davolio|    Nancy|Sales Representative|            Ms.|1948-12-08 00:00:...|1992-05-01 00:00:...|507 - 20th Ave. E...| Seattle|    WA|     98122|    USA|(206) 555-9857|     5467|0x151C2F000200000...|\"Education includ...|        2|http://accweb/emm...|\n",
            "|         2|   Fuller|   Andrew|Vice President, S...|            Dr.|1952-02-19 00:00:...|1992-08-14 00:00:...|  908 W. Capital Way|  Tacoma|    WA|     98401|    USA|(206) 555-9482|     3457|0x151C2F000200000...|Andrew received h...|     NULL|http://accweb/emm...|\n",
            "|         3|Leverling|    Janet|Sales Representative|            Ms.|1963-08-30 00:00:...|1992-04-01 00:00:...|  722 Moss Bay Blvd.|Kirkland|    WA|     98033|    USA|(206) 555-3412|     3355|0x151C2F000200000...|Janet has a BS de...|        2|http://accweb/emm...|\n",
            "|         4|  Peacock| Margaret|Sales Representative|           Mrs.|1937-09-19 00:00:...|1993-05-03 00:00:...|4110 Old Redmond Rd.| Redmond|    WA|     98052|    USA|(206) 555-8122|     5176|0x151C2F000200000...|Margaret holds a ...|        2|http://accweb/emm...|\n",
            "|         5| Buchanan|   Steven|       Sales Manager|            Mr.|1955-03-04 00:00:...|1993-10-17 00:00:...|     14 Garrett Hill|  London|  NULL|   SW1 8JR|     UK| (71) 555-4848|     3453|0x151C2F000200000...|\"Steven Buchanan ...|        2|http://accweb/emm...|\n",
            "+----------+---------+---------+--------------------+---------------+--------------------+--------------------+--------------------+--------+------+----------+-------+--------------+---------+--------------------+--------------------+---------+--------------------+\n",
            "only showing top 5 rows\n",
            "\n"
          ]
        }
      ]
    },
    {
      "cell_type": "code",
      "source": [
        "# filtro de data (deve ter um jeito mais elegante)\n",
        "orders_mes_anterior = orders.filter(\n",
        "    (orders.OrderDate >= '1998-04-01 00:00:00.000') & (orders.OrderDate < '1998-05-01 00:00:00.000'))\n",
        "\n",
        "qnt_vendas = orders_mes_anterior.groupBy(\"EmployeeID\") \\\n",
        "    .agg(count(\"OrderID\").alias(\"QntVendas\")) \\\n",
        "    .orderBy(\"QntVendas\", ascending=False)\n",
        "\n",
        "funcionario_mais_vendas = employees.join(qnt_vendas, \"EmployeeID\") \\\n",
        "    .orderBy(\"QntVendas\", ascending=False) \\\n",
        "    .limit(1)\n",
        "\n",
        "funcionario_mais_vendas.select(\"FirstName\", \"LastName\", \"Title\", \"QntVendas\").show()"
      ],
      "metadata": {
        "colab": {
          "base_uri": "https://localhost:8080/"
        },
        "id": "ZAl6H2omG-Xz",
        "outputId": "414dd35f-69fd-473f-efc4-05b2413130ae"
      },
      "execution_count": 22,
      "outputs": [
        {
          "output_type": "stream",
          "name": "stdout",
          "text": [
            "+---------+--------+--------------------+---------+\n",
            "|FirstName|LastName|               Title|QntVendas|\n",
            "+---------+--------+--------------------+---------+\n",
            "|   Andrew|  Fuller|Vice President, S...|       18|\n",
            "+---------+--------+--------------------+---------+\n",
            "\n"
          ]
        }
      ]
    },
    {
      "cell_type": "markdown",
      "source": [
        "### 5 - Quais as regiões com menos clientes cadastrados?"
      ],
      "metadata": {
        "id": "umDl7pz4QAZZ"
      }
    },
    {
      "cell_type": "code",
      "source": [
        "clientes_por_regiao = customers.groupBy(\"Region\")\\\n",
        "    .agg(count(\"CustomerID\")\\\n",
        "    .alias(\"TotalClientes\"))\\\n",
        "    .orderBy(\"TotalClientes\", ascending=True)\n",
        "\n",
        "clientes_por_regiao.show(10)"
      ],
      "metadata": {
        "colab": {
          "base_uri": "https://localhost:8080/"
        },
        "id": "-j1iXz7jQB8h",
        "outputId": "0688ba71-3d6d-4e73-e0ba-fc0b0d84f47c"
      },
      "execution_count": 23,
      "outputs": [
        {
          "output_type": "stream",
          "name": "stdout",
          "text": [
            "+-------------+-------------+\n",
            "|       Region|TotalClientes|\n",
            "+-------------+-------------+\n",
            "|      Táchira|            1|\n",
            "|Nueva Esparta|            1|\n",
            "|     Co. Cork|            1|\n",
            "|Isle of Wight|            1|\n",
            "|           NM|            1|\n",
            "|           CA|            1|\n",
            "|           ID|            1|\n",
            "|           MT|            1|\n",
            "|       Québec|            1|\n",
            "|           WY|            1|\n",
            "+-------------+-------------+\n",
            "only showing top 10 rows\n",
            "\n"
          ]
        }
      ]
    }
  ],
  "metadata": {
    "colab": {
      "provenance": []
    },
    "kernelspec": {
      "display_name": "Python 3",
      "language": "python",
      "name": "python3"
    },
    "language_info": {
      "codemirror_mode": {
        "name": "ipython",
        "version": 3
      },
      "file_extension": ".py",
      "mimetype": "text/x-python",
      "name": "python",
      "nbconvert_exporter": "python",
      "pygments_lexer": "ipython3",
      "version": "3.8.8"
    },
    "varInspector": {
      "cols": {
        "lenName": 16,
        "lenType": 16,
        "lenVar": 40
      },
      "kernels_config": {
        "python": {
          "delete_cmd_postfix": "",
          "delete_cmd_prefix": "del ",
          "library": "var_list.py",
          "varRefreshCmd": "print(var_dic_list())"
        },
        "r": {
          "delete_cmd_postfix": ") ",
          "delete_cmd_prefix": "rm(",
          "library": "var_list.r",
          "varRefreshCmd": "cat(var_dic_list()) "
        }
      },
      "types_to_exclude": [
        "module",
        "function",
        "builtin_function_or_method",
        "instance",
        "_Feature"
      ],
      "window_display": false
    }
  },
  "nbformat": 4,
  "nbformat_minor": 0
}